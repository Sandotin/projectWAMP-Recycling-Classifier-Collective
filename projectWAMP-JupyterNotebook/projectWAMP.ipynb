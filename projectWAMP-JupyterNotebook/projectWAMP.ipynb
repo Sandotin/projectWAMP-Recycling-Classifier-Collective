{
 "cells": [
  {
   "cell_type": "code",
   "execution_count": 23,
   "metadata": {},
   "outputs": [
    {
     "data": {
      "text/html": [
       "<!–– This code allow the jupyter notebook to run immediately when we do open it\n",
       "The source of this code is the following : https://stackoverflow.com/questions/31984196/ipython-notebook-run-all-cells-on-open/38856870#38856870––>\n",
       "<script>\n",
       "    // AUTORUN ALL CELLS ON NOTEBOOK-LOAD!\n",
       "    require(\n",
       "        ['base/js/namespace', 'jquery'], \n",
       "        function(jupyter, $) {\n",
       "            $(jupyter.events).on(\"kernel_ready.Kernel\", function () {\n",
       "                console.log(\"Auto-running all cells-below...\");\n",
       "                jupyter.actions.call('jupyter-notebook:run-all-cells-below');\n",
       "                jupyter.actions.call('jupyter-notebook:save-notebook');\n",
       "            });\n",
       "        }\n",
       "    );\n",
       "</script>\n"
      ],
      "text/plain": [
       "<IPython.core.display.HTML object>"
      ]
     },
     "metadata": {},
     "output_type": "display_data"
    }
   ],
   "source": [
    "%%html\n",
    "<!–– This code allow the jupyter notebook to run immediately when we do open it\n",
    "The source of this code is the following : https://stackoverflow.com/questions/31984196/ipython-notebook-run-all-cells-on-open/38856870#38856870––>\n",
    "<script>\n",
    "    // AUTORUN ALL CELLS ON NOTEBOOK-LOAD!\n",
    "    require(\n",
    "        ['base/js/namespace', 'jquery'], \n",
    "        function(jupyter, $) {\n",
    "            $(jupyter.events).on(\"kernel_ready.Kernel\", function () {\n",
    "                console.log(\"Auto-running all cells-below...\");\n",
    "                jupyter.actions.call('jupyter-notebook:run-all-cells-below');\n",
    "                jupyter.actions.call('jupyter-notebook:save-notebook');\n",
    "            });\n",
    "        }\n",
    "    );\n",
    "</script>"
   ]
  },
  {
   "cell_type": "code",
   "execution_count": 24,
   "metadata": {},
   "outputs": [
    {
     "data": {
      "text/html": [
       "<!–– This code allow the jupyter notebook to show no cells and keep the display clean.\n",
       "The source of the code is the following: https://chris-said.io/2016/02/13/how-to-make-polished-jupyter-presentations-with-optional-code-visibility/––>\n",
       "<script>\n",
       "  function code_toggle() {\n",
       "    if (code_shown){\n",
       "      $('div.input').hide('500');\n",
       "      $('#toggleButton').val('Show Code')\n",
       "    } else {\n",
       "      $('div.input').show('500');\n",
       "      $('#toggleButton').val('Hide Code')\n",
       "    }\n",
       "    code_shown = !code_shown\n",
       "  }\n",
       "\n",
       "  $( document ).ready(function(){\n",
       "    code_shown=false;\n",
       "    $('div.input').hide()\n",
       "  });\n",
       "</script>\n",
       "<form action=\"javascript:code_toggle()\"><input type=\"submit\" id=\"toggleButton\" value=\"Show Code\"></form>\n"
      ],
      "text/plain": [
       "<IPython.core.display.HTML object>"
      ]
     },
     "metadata": {},
     "output_type": "display_data"
    }
   ],
   "source": [
    "%%html\n",
    "<!–– This code allow the jupyter notebook to show no cells and keep the display clean.\n",
    "The source of the code is the following: https://chris-said.io/2016/02/13/how-to-make-polished-jupyter-presentations-with-optional-code-visibility/––>\n",
    "<script>\n",
    "  function code_toggle() {\n",
    "    if (code_shown){\n",
    "      $('div.input').hide('500');\n",
    "      $('#toggleButton').val('Show Code')\n",
    "    } else {\n",
    "      $('div.input').show('500');\n",
    "      $('#toggleButton').val('Hide Code')\n",
    "    }\n",
    "    code_shown = !code_shown\n",
    "  }\n",
    "\n",
    "  $( document ).ready(function(){\n",
    "    code_shown=false;\n",
    "    $('div.input').hide()\n",
    "  });\n",
    "</script>\n",
    "<form action=\"javascript:code_toggle()\"><input type=\"submit\" id=\"toggleButton\" value=\"Show Code\"></form>"
   ]
  },
  {
   "cell_type": "code",
   "execution_count": 25,
   "metadata": {},
   "outputs": [
    {
     "data": {
      "text/html": [
       "<!–– Credit to https://www.w3schools.com/html/ for all the help in building each html display––>\n",
       "<p> <img style=\"padding: 0 15px; float: left\" src=\"AppLogo.png\" width = '400' height = '116'/></p>\n",
       "<p style=\"margin-top: 20px;\"> </p>\n",
       "<p> <h1 style=font-size:85px><em>project</em>WAMP</h1></p>\n",
       "<center><p> <h1 style=font-size:10px> <em>WAMP is a Machine Learning project with aim of to assit waste classification and recycling <em></h1> </p></center>\n"
      ],
      "text/plain": [
       "<IPython.core.display.HTML object>"
      ]
     },
     "metadata": {},
     "output_type": "display_data"
    }
   ],
   "source": [
    "%%html\n",
    "<!–– Credit to https://www.w3schools.com/html/ for all the help in building each html display––>\n",
    "<p> <img style=\"padding: 0 15px; float: left\" src=\"AppLogo.png\" width = '400' height = '116'/></p>\n",
    "<p style=\"margin-top: 20px;\"> </p>\n",
    "<p> <h1 style=font-size:85px><em>project</em>WAMP</h1></p>\n",
    "<center><p> <h1 style=font-size:10px> <em>WAMP is a Machine Learning project with aim of to assit waste classification and recycling <em></h1> </p></center>"
   ]
  },
  {
   "cell_type": "code",
   "execution_count": 26,
   "metadata": {},
   "outputs": [
    {
     "data": {
      "text/html": [
       "<p> <h1 style=font-size:30px>Objective</h1></p>\n",
       "<center><p> <em>We aim to educate users on the distinction between recyclable and non-recyclable items and the importance of recycling by using our competencies in research and Machine Learning to build a model that implements both object detection and classification, embedded into a user-friendly application.<em> </p></center>\n"
      ],
      "text/plain": [
       "<IPython.core.display.HTML object>"
      ]
     },
     "metadata": {},
     "output_type": "display_data"
    }
   ],
   "source": [
    "%%html\n",
    "<p> <h1 style=font-size:30px>Objective</h1></p>\n",
    "<center><p> <em>We aim to educate users on the distinction between recyclable and non-recyclable items and the importance of recycling by using our competencies in research and Machine Learning to build a model that implements both object detection and classification, embedded into a user-friendly application.<em> </p></center>"
   ]
  },
  {
   "cell_type": "code",
   "execution_count": 27,
   "metadata": {},
   "outputs": [
    {
     "data": {
      "image/jpeg": "[encoded data removed]",
      "text/html": [
       "\n",
       "        <iframe\n",
       "            width=\"900\"\n",
       "            height=\"576\"\n",
       "            src=\"https://www.youtube.com/embed/Rx6_qFHHIOY\"\n",
       "            frameborder=\"0\"\n",
       "            allowfullscreen\n",
       "        ></iframe>\n",
       "        "
      ],
      "text/plain": [
       "<IPython.lib.display.YouTubeVideo at 0xb36e55240>"
      ]
     },
     "metadata": {},
     "output_type": "display_data"
    }
   ],
   "source": [
    "from IPython.display import YouTubeVideo\n",
    "vid = YouTubeVideo(\"Rx6_qFHHIOY\",width=900, height=576)\n",
    "display(vid)"
   ]
  },
  {
   "cell_type": "code",
   "execution_count": 28,
   "metadata": {},
   "outputs": [
    {
     "data": {
      "text/html": [
       "<p> <h1 style=font-size:30px>Test <em>project</em>WAMP Application</h1></p>\n",
       "<center><p> <em><em> </p></center>\n"
      ],
      "text/plain": [
       "<IPython.core.display.HTML object>"
      ]
     },
     "metadata": {},
     "output_type": "display_data"
    }
   ],
   "source": [
    "%%html\n",
    "<p> <h1 style=font-size:30px>Test <em>project</em>WAMP Application</h1></p>\n",
    "<center><p> <em><em> </p></center>"
   ]
  },
  {
   "cell_type": "code",
   "execution_count": 29,
   "metadata": {},
   "outputs": [],
   "source": [
    "# the following allows you to use the with statement in Python 2.5 but it \n",
    "#is part of the language as of Python 2.6. The syntax from module import function \n",
    "#generally means that the function from the specified module is made available in the current scope and \n",
    "#that it can be called.\n",
    "from __future__ import division, print_function"
   ]
  },
  {
   "cell_type": "code",
   "execution_count": 30,
   "metadata": {},
   "outputs": [],
   "source": [
    "# Importing dependencies\n",
    "\n",
    "import os\n",
    "\n",
    "#The one line below is supposed to restrict tensorflow to display warning!!!\n",
    "os.environ['TF_CPP_MIN_LOG_LEVEL'] = '3'#credit to https://stackoverflow.com/questions/35911252/disable-tensorflow-debugging-information for the above code\n",
    "import tensorflow as tf\n",
    "import cv2\n",
    "import matplotlib.pyplot as plt\n",
    "import numpy as np\n",
    "import urllib.request\n",
    "import tarfile\n",
    "import shutil\n",
    "\n",
    "import scipy.misc\n",
    "import matplotlib\n",
    "import importlib\n",
    "import traitlets\n",
    "import PIL\n",
    "import sys\n",
    "import io\n",
    "import IPython\n",
    "import keras\n",
    "\n",
    "from ipywidgets import Button, Layout\n",
    "from IPython.display import display_html\n",
    "from IPython.core.display import HTML\n",
    "from IPython.nbformat.current import read, write\n",
    "from IPython.display import Image\n",
    "from PIL import ImageOps\n",
    "from PIL import Image\n",
    "from keras.preprocessing import image\n",
    "from keras.models import load_model\n",
    "from glob import glob\n",
    "from ipywidgets import widgets\n",
    "from tkinter import Tk, filedialog\n",
    "from IPython.display import Image\n",
    "from IPython.display import display, clear_output\n",
    "\n",
    "#Obtain the Model File\n",
    "\n",
    "file_name = 'ssd_mobilenet_v1_coco_2018_01_28.tar.gz'\n",
    "\n",
    "#Extract the detection Model Data\n",
    "\n",
    "dir_name = file_name[0:-len('.tar.gz')]\n",
    "if os.path.exists(dir_name):\n",
    "    shutil.rmtree(dir_name) \n",
    "tarfile.open(file_name, 'r:gz').extractall('./')\n",
    "\n",
    "#Extract the detection Model labels necessary for detections. \n",
    "#In all honestly this part is none of use for us and is not to be confused with the labels we are using to classify.\n",
    "#the labels we are extractiong now are mostly for the coco detection model\n",
    "    \n",
    "labels = {}\n",
    "with open('labels.txt', 'r') as labelsFile:\n",
    "    for line in labelsFile.readlines():\n",
    "        split = line.strip().split(': ')\n",
    "        labels[int(split[0])] = split[1]\n",
    "\n",
    "#Extract the clasification Model names as 'WAMP_3000_EA_model_100+50Ep.h5'\n",
    "\n",
    "filepath = 'WAMP_3000_EA_model_100+50Ep.h5'\n",
    "new_model = tf.compat.v1.keras.models.load_model(\n",
    "    filepath,\n",
    "    custom_objects=None,\n",
    "    compile=True)"
   ]
  },
  {
   "cell_type": "code",
   "execution_count": 31,
   "metadata": {},
   "outputs": [
    {
     "data": {
      "text/html": [
       "<img src=\"brain.png\" width = '1000' height = '400'class=\"center\"/>\n"
      ],
      "text/plain": [
       "<IPython.core.display.HTML object>"
      ]
     },
     "metadata": {},
     "output_type": "display_data"
    }
   ],
   "source": [
    "%%html\n",
    "<img src=\"brain.png\" width = '1000' height = '400'class=\"center\"/>"
   ]
  },
  {
   "cell_type": "code",
   "execution_count": 32,
   "metadata": {},
   "outputs": [
    {
     "data": {
      "application/vnd.jupyter.widget-view+json": {
       "model_id": "",
       "version_major": 2,
       "version_minor": 0
      },
      "text/plain": [
       "SelectFilesButton(description='Select Files', icon='square-o', style=ButtonStyle(button_color='orange'))"
      ]
     },
     "metadata": {},
     "output_type": "display_data"
    }
   ],
   "source": [
    "# Python script to select an image from your local computer\n",
    "#Credit given to https://tutel.me/c/codereview/questions/162920/file+selection+button+for+jupyter+notebook\n",
    "class SelectFilesButton(widgets.Button):\n",
    "    \"\"\"A file widget that leverages tkinter.filedialog.\"\"\"\n",
    "    def __init__(self):\n",
    "        super(SelectFilesButton, self).__init__()\n",
    "        # Add the selected_files trait\n",
    "        self.add_traits(files=traitlets.traitlets.List())\n",
    "        # Create the button.\n",
    "        self.description = \"Select Files\"\n",
    "        self.icon = \"square-o\"\n",
    "        self.style.button_color = \"orange\"\n",
    "        # Set on click behavior.\n",
    "        self.on_click(self.select_files)\n",
    "    @staticmethod\n",
    "    def select_files(b):\n",
    "        # Create Tk root\n",
    "        root = Tk()\n",
    "        # Hide the main window\n",
    "        root.withdraw()\n",
    "        # Raise the root to the top of all windows.\n",
    "        root.call('wm', 'attributes', '.', '-topmost', True)\n",
    "        # List of selected fileswill be set to b.value\n",
    "        b.files = filedialog.askopenfilename(multiple=True)\n",
    "        b.description = \"Files Selected\"\n",
    "        b.icon = \"check-square-o\"\n",
    "        b.style.button_color = \"lightgreen\"\n",
    "my_button = SelectFilesButton()\n",
    "display(my_button)"
   ]
  },
  {
   "cell_type": "code",
   "execution_count": 33,
   "metadata": {},
   "outputs": [],
   "source": [
    "def display_image(btn_0):\n",
    "    display(Image(filename=my_button.files[0],width = 100))"
   ]
  },
  {
   "cell_type": "code",
   "execution_count": 34,
   "metadata": {},
   "outputs": [
    {
     "data": {
      "application/vnd.jupyter.widget-view+json": {
       "model_id": "",
       "version_major": 2,
       "version_minor": 0
      },
      "text/plain": [
       "Button(button_style='success', description='Display Image', layout=Layout(height='50px', width='20%'), style=B…"
      ]
     },
     "metadata": {},
     "output_type": "display_data"
    }
   ],
   "source": [
    "btn_0 = widgets.Button(description='Display Image',layout=Layout(width='20%', height='50px'),button_style='success')\n",
    "btn_0.on_click(display_image)\n",
    "display(btn_0)"
   ]
  },
  {
   "cell_type": "code",
   "execution_count": 35,
   "metadata": {},
   "outputs": [],
   "source": [
    "#This function help us detect object in a particular image\n",
    "def my_event_handler(btn_object):\n",
    "    frame = cv2.imread(my_button.files[0])\n",
    "    #Shape of image\n",
    "    frame_width_height = frame.shape\n",
    "    # Find the longer dimension \n",
    "    max_dimension = max(frame_width_height)\n",
    "    # Compute the delta width and height\n",
    "    width_padding = max_dimension - frame_width_height[1]\n",
    "    height_padding = max_dimension - frame_width_height[0]\n",
    "    # Compute the padding amounts\n",
    "    left_padding = width_padding // 2\n",
    "    right_padding = width_padding - left_padding\n",
    "    top_padding = height_padding // 2\n",
    "    bottom_padding = height_padding - top_padding\n",
    "    \n",
    "    # Pad and plot the image\n",
    "    padding = (left_padding,top_padding,right_padding,bottom_padding)\n",
    "    #Convert the frame to an Image\n",
    "    frame_ = PIL.Image.fromarray(frame)\n",
    "    #Apply padding to image\n",
    "    padded_frame = ImageOps.expand(frame_, padding, (255,255,255,255))\n",
    "    #Resize the image\n",
    "    resized_frame = padded_frame.resize((300, 300), PIL.Image.ANTIALIAS)\n",
    "    #Load the frozen graph\n",
    "    frozen_graph = os.path.join(dir_name, 'frozen_inference_graph.pb')\n",
    "    with tf.compat.v1.gfile.GFile(frozen_graph,'rb') as f:\n",
    "        graph_def = tf.compat.v1.GraphDef()\n",
    "        graph_def.ParseFromString(f.read())\n",
    "    #Convert the Image back to a numpy array\n",
    "    image_np = np.asarray(resized_frame, dtype=\"int32\")\n",
    "    input_images = [image_np]\n",
    "    #Shape of image\n",
    "    width, height, _ = image_np.shape\n",
    "    outputs = ('num_detections','detection_classes','detection_scores','detection_boxes',)\n",
    "    #Run the graph\n",
    "    with tf.compat.v1.Session() as sess:\n",
    "        sess.graph.as_default()\n",
    "        tf.import_graph_def(graph_def, name='')\n",
    "        detections = sess.run(\n",
    "          [sess.graph.get_tensor_by_name(f'{op}:0') for op in outputs],\n",
    "          feed_dict={ 'image_tensor:0': input_images }\n",
    "      )\n",
    "        \n",
    "    #Output\n",
    "    num_detections = detections[0]\n",
    "    detection_classes = detections[1]\n",
    "    detection_scores = detections[2]\n",
    "    detection_boxes = detections[3]\n",
    "    \n",
    "    #Number of object detected\n",
    "    num_of_items = int(num_detections[0].item())\n",
    "    \n",
    "    #Iterate through the number of object detected\n",
    "    idx = 0\n",
    "    image__ = matplotlib.image.imsave('new_example.png',image_np)\n",
    "    image___ = cv2.imread(\"new_example.png\")\n",
    "    image___ = cv2.cvtColor(image___,cv2.COLOR_BGR2RGB)\n",
    "    os.mkdir('Image_2_Classify')\n",
    "    path = 'Image_2_Classify'\n",
    "    \n",
    "#This part just include the original image into the path = 'Image_2_Classify' so that even if the \n",
    "#detection model does not detect any object, at least we can try to classify something. The detection mode is limites as it can\n",
    "#only get 80 images\n",
    "    Original_image = cv2.imread(my_button.files[0], 1)\n",
    "    cv2.imwrite(os.path.join(path , \"Original_image.png\"), Original_image)\n",
    "    display(Image(filename='Image_2_Classify'+'/'+\"Original_image.png\"))\n",
    "    \n",
    "    #Iterate through the number of object detected\n",
    "    for i in range(num_of_items):\n",
    "        red = 255\n",
    "        green = 0\n",
    "        blue = 0\n",
    "        scale = 0.5\n",
    "        thickness = 2\n",
    "        label = labels[detections[1][0][i]]\n",
    "        \n",
    "      #Dimensions of the Rectangle\n",
    "        top = int(height*detections[3][0][i][0])\n",
    "        left = int(width*detections[3][0][i][1])\n",
    "        bottom = int(height*detections[3][0][i][2])\n",
    "        right = int(width*detections[3][0][i][3])\n",
    "        output_path = path + \"/\" + str(idx) + '.png'\n",
    "      #creating a new image based on the rectangle dimension we selected earlier\n",
    "        new_img=image___[top:bottom,left:right]\n",
    "        cv2.imwrite(output_path, new_img)\n",
    "        display(Image(filename='Image_2_Classify'+'/'+str(idx)+'.png'))\n",
    "        idx = i+1\n",
    "    print(\"Number of Detected Items to classify are:\"+\"{}\".format(1+num_of_items))"
   ]
  },
  {
   "cell_type": "code",
   "execution_count": 36,
   "metadata": {},
   "outputs": [
    {
     "data": {
      "application/vnd.jupyter.widget-view+json": {
       "model_id": "",
       "version_major": 2,
       "version_minor": 0
      },
      "text/plain": [
       "Button(button_style='success', description='Detections', layout=Layout(height='50px', width='40%'), style=Butt…"
      ]
     },
     "metadata": {},
     "output_type": "display_data"
    }
   ],
   "source": [
    "btn = widgets.Button(description='Detections',layout=Layout(width='40%', height='50px'),button_style='success')\n",
    "btn.on_click(my_event_handler)\n",
    "display(btn) "
   ]
  },
  {
   "cell_type": "code",
   "execution_count": 37,
   "metadata": {
    "colab": {
     "base_uri": "https://localhost:8080/",
     "height": 34
    },
    "colab_type": "code",
    "executionInfo": {
     "elapsed": 857,
     "status": "ok",
     "timestamp": 1562961425402,
     "user": {
      "displayName": "Abdoul Aziz Coulibaly",
      "photoUrl": "https://lh3.googleusercontent.com/-U-Ix0dWhEAA/AAAAAAAAAAI/AAAAAAAAAAc/s3fWZvoTT70/s64/photo.jpg",
      "userId": "15689559843414071646"
     },
     "user_tz": 240
    },
    "id": "-UXUAKmViA9y",
    "outputId": "c651dfb5-0e5b-4318-c9f8-ed22b0f6a4fd"
   },
   "outputs": [],
   "source": [
    "def predict(btn_object):\n",
    "    #buildind a list with all the name of the object detectect\n",
    "    classes = ['Blue','Green','Orange','Purple','Red']\n",
    "    filenames= []\n",
    "    results = []\n",
    "    directory = os.fsencode('Image_2_Classify')\n",
    "    for file in os.listdir(directory):\n",
    "        filename = os.fsdecode(file) \n",
    "        if filename.endswith(\".png\"):\n",
    "            filenames.append(str(filename))\n",
    "            print\n",
    "            continue\n",
    "        else:\n",
    "            continue\n",
    "    filenames.sort()\n",
    "#padding those image so we can properly feed them to the classifical model\n",
    "    for pndex in range(len(filenames)):\n",
    "        \n",
    "        test_image = cv2.imread('Image_2_Classify'+'/'+filenames[pndex])\n",
    "        w_h = test_image.shape\n",
    "               # Find the longer dimension\n",
    "        max_d = max(w_h)\n",
    "               # Compute the delta width and height\n",
    "        w_padding = max_d - w_h[1]\n",
    "        h_padding = max_d - w_h[0]\n",
    "               # Compute the padding amounts\n",
    "        left_p = w_padding // 2\n",
    "        right_p = w_padding - left_p\n",
    "        top_p = h_padding // 2\n",
    "        bottom_p = h_padding - top_p\n",
    "        #prep for padding\n",
    "        padding_ = (left_p,top_p,right_p,bottom_p)\n",
    "             #conveting to numpy\n",
    "        test_image_ = PIL.Image.fromarray(test_image)\n",
    "             #applying padding\n",
    "        p_frame = ImageOps.expand(test_image_, padding_, (255,255,255,255))\n",
    "        r_frame = p_frame.resize((224,224), PIL.Image.ANTIALIAS)\n",
    "       \n",
    "        test_image = image.img_to_array(r_frame)/255 \n",
    "        test_image = np.expand_dims(test_image, axis=0)\n",
    "#feeding the image one by one in the classification model named new_model, we extracted earlier as'WAMP_3000_EA_model_100+50Ep.h5'\n",
    "        result = new_model.predict(test_image)[0]\n",
    "        results.append(result)\n",
    "#Assigning the result to each images we classified earlier\n",
    "    for k in range(len(filenames)):\n",
    "        proba = results[k]\n",
    "        top_3 = list(proba)\n",
    "        test_image = image.load_img('Image_2_Classify'+'/'+filenames[k])\n",
    "        for i in range(5):\n",
    "            print(\"{}\".format(classes[i])+\" ({:.3})\".format(top_3[i]))\n",
    "        display(Image('Image_2_Classify'+'/'+filenames[k]))\n",
    "    shutil.rmtree('Image_2_Classify') "
   ]
  },
  {
   "cell_type": "code",
   "execution_count": 38,
   "metadata": {},
   "outputs": [
    {
     "data": {
      "application/vnd.jupyter.widget-view+json": {
       "model_id": "",
       "version_major": 2,
       "version_minor": 0
      },
      "text/plain": [
       "Button(button_style='success', description='WAMP-It', layout=Layout(height='50px', width='60%'), style=ButtonS…"
      ]
     },
     "metadata": {},
     "output_type": "display_data"
    }
   ],
   "source": [
    "btn_1 = widgets.Button(description='WAMP-It',layout=Layout(width='60%', height='50px'),button_style='success')\n",
    "btn_1.on_click(predict)\n",
    "display(btn_1) "
   ]
  },
  {
   "cell_type": "code",
   "execution_count": 45,
   "metadata": {},
   "outputs": [
    {
     "data": {
      "text/html": [
       "<html>\n",
       "<head>\n",
       "<style>\n",
       ".flex-container {\n",
       "  display: flex;\n",
       "  justify-content: center;\n",
       "  align-items: center;\n",
       "  height: 100px;\n",
       "}\n",
       "\n",
       ".flex-container > div {\n",
       "  background-color: #f1f1f1;\n",
       "  width: 100px;\n",
       "  margin: 10px;\n",
       "  text-align: center;\n",
       "  line-height: 75px;\n",
       "  font-size: 30px;\n",
       "}\n",
       "</style>\n",
       "</head>\n",
       "<body>\n",
       "<p><h1 style=font-size:30px>Learn more about <em>Your Color</em></h1><p>\n",
       "\n",
       "<p><em>Click on the box below to know more about </em></p>\n",
       "\n",
       "<p></p>\n",
       "\n",
       "<div class=\"flex-container\">\n",
       "  <div style=\"background-color:green;\"><a href=\"https://docs.google.com/document/d/1gS3vEMRswtjLqH167WV8flPx7iueW8bBX9DeOP7mFss/edit?usp=sharing\">Green</a></div>\n",
       "  <div style=\"background-color:blue;\"><a href=\"https://docs.google.com/document/d/1NLzVSbRO-Deo228ISIzW61zn3GFiRvCPlrbUiT5uLUQ/edit?usp=sharing\">Blue</a></div>\n",
       "  <div style=\"background-color:orange;\"><a href=\"https://docs.google.com/document/d/1qdz14UpzWqQTtebQOY-cogb81zUTGtFSeDI7e0kVYEE/edit?usp=sharing\">Orange</a></div>  \n",
       "  <div style=\"background-color:purple;\"><a href=\"https://docs.google.com/document/d/13hU9p7eGNNTr9gL0ZLsdiHim4z0qJcRZsbzYIqQTGEQ/edit?usp=sharing\">Purple</a></div>\n",
       "  <div style=\"background-color:red;\"><a href=\"https://docs.google.com/document/d/1VvwyTBIONDIrmg_XE5B3S3fHS1drgnnLLpIvRQHqQX4/edit?usp=sharing\">Red</a></div>\n",
       "</div>\n"
      ],
      "text/plain": [
       "<IPython.core.display.HTML object>"
      ]
     },
     "metadata": {},
     "output_type": "display_data"
    }
   ],
   "source": [
    "%%html\n",
    "<html>\n",
    "<head>\n",
    "<style>\n",
    ".flex-container {\n",
    "  display: flex;\n",
    "  justify-content: center;\n",
    "  align-items: center;\n",
    "  height: 100px;\n",
    "}\n",
    "\n",
    ".flex-container > div {\n",
    "  background-color: #f1f1f1;\n",
    "  width: 100px;\n",
    "  margin: 10px;\n",
    "  text-align: center;\n",
    "  line-height: 75px;\n",
    "  font-size: 30px;\n",
    "}\n",
    "</style>\n",
    "</head>\n",
    "<body>\n",
    "<p><h1 style=font-size:30px>Learn more about <em>Your Color</em></h1><p>\n",
    "\n",
    "<p><em>Click on the box below to know more about </em></p>\n",
    "\n",
    "<p></p>\n",
    "\n",
    "<div class=\"flex-container\">\n",
    "  <div style=\"background-color:green;\"><a href=\"https://docs.google.com/document/d/1gS3vEMRswtjLqH167WV8flPx7iueW8bBX9DeOP7mFss/edit?usp=sharing\">Green</a></div>\n",
    "  <div style=\"background-color:blue;\"><a href=\"https://docs.google.com/document/d/1NLzVSbRO-Deo228ISIzW61zn3GFiRvCPlrbUiT5uLUQ/edit?usp=sharing\">Blue</a></div>\n",
    "  <div style=\"background-color:orange;\"><a href=\"https://docs.google.com/document/d/1qdz14UpzWqQTtebQOY-cogb81zUTGtFSeDI7e0kVYEE/edit?usp=sharing\">Orange</a></div>  \n",
    "  <div style=\"background-color:purple;\"><a href=\"https://docs.google.com/document/d/13hU9p7eGNNTr9gL0ZLsdiHim4z0qJcRZsbzYIqQTGEQ/edit?usp=sharing\">Purple</a></div>\n",
    "  <div style=\"background-color:red;\"><a href=\"https://docs.google.com/document/d/1VvwyTBIONDIrmg_XE5B3S3fHS1drgnnLLpIvRQHqQX4/edit?usp=sharing\">Red</a></div>\n",
    "</div>"
   ]
  },
  {
   "cell_type": "code",
   "execution_count": 40,
   "metadata": {},
   "outputs": [
    {
     "data": {
      "text/html": [
       "<p><h1 style=font-size:30px> Found the nearest <em>WAMPing</em> Center near you </h1><p>\n",
       "<p></p>\n",
       "<div style=\"width: 100%\"><iframe width=\"100%\" height=\"600\" src=\"https://maps.google.com/maps?q=recycle%20center%20near%20me&t=&z=13&ie=UTF8&iwloc=&output=embed\" frameborder=\"0\" scrolling=\"no\" marginheight=\"0\" marginwidth=\"0\"><a href=\"https://www.mapsdirections.info/en/journey-planner.htm\">www.mapsdirections.info</a></iframe></div><br />\n"
      ],
      "text/plain": [
       "<IPython.core.display.HTML object>"
      ]
     },
     "metadata": {},
     "output_type": "display_data"
    }
   ],
   "source": [
    "%%html\n",
    "<p><h1 style=font-size:30px> Found the nearest <em>WAMPing</em> Center near you </h1><p>\n",
    "<p></p>\n",
    "<div style=\"width: 100%\"><iframe width=\"100%\" height=\"600\" src=\"https://maps.google.com/maps?q=recycle%20center%20near%20me&t=&z=13&ie=UTF8&iwloc=&output=embed\" frameborder=\"0\" scrolling=\"no\" marginheight=\"0\" marginwidth=\"0\"><a href=\"https://www.mapsdirections.info/en/journey-planner.htm\">www.mapsdirections.info</a></iframe></div><br />"
   ]
  },
  {
   "cell_type": "code",
   "execution_count": 41,
   "metadata": {},
   "outputs": [
    {
     "data": {
      "text/html": [
       "<!DOCTYPE html>\n",
       "<html>\n",
       "<head>\n",
       "<style>\n",
       "div.gallery {\n",
       "  border: 1px solid #ccc;\n",
       "}\n",
       "\n",
       "div.gallery:hover {\n",
       "  border: 1px solid #777;\n",
       "}\n",
       "\n",
       "div.gallery img {\n",
       "  width: 100%;\n",
       "  height: 300px;\n",
       "}\n",
       "\n",
       "div.desc {\n",
       "  padding: 15px;\n",
       "  text-align: center;\n",
       "}\n",
       "\n",
       "* {\n",
       "  box-sizing: border-box;\n",
       "}\n",
       "div.a {\n",
       "  text-align: center;\n",
       "}\n",
       "\n",
       ".responsive {\n",
       "  padding: 0 6px;\n",
       "  float: left;\n",
       "  width: 24.99999%;\n",
       "}\n",
       "\n",
       "@media only screen and (max-width: 700px) {\n",
       "  .responsive {\n",
       "    width: 49.99999%;\n",
       "    margin: 6px 0;\n",
       "  }\n",
       "}\n",
       "\n",
       "@media only screen and (max-width: 500px) {\n",
       "  .responsive {\n",
       "    width: 100%;\n",
       "  }\n",
       "}\n",
       "\n",
       ".clearfix:after {\n",
       "  content: \"\";\n",
       "  display: table;\n",
       "  clear: both;\n",
       "}\n",
       "</style>\n",
       "</head>\n",
       "<body>\n",
       "\n",
       "<p><h1 style=font-size:30px>TEAM MEMBERS</h1><p>\n",
       "\n",
       "<p><em>Click on Picture to be rdirected to the team members LinkedIn profile member</em></p>\n",
       "<p></p>\n",
       "<div class=\"responsive\">\n",
       "  <div class=\"gallery\">\n",
       "    <a target=\"_blank\" href=\"https://www.linkedin.com/in/wayne-chim-060897150/\">\n",
       "      <img src=\"W.png\" width=\"600\" height=\"400\">\n",
       "    </a>\n",
       "    <div class=\"desc\"><h2 style=\"color:black;text-align:center;\"</h2>Wayne <center> Chim </center> <p><h5>Email:</p>wayne.chim@macaulay.cuny.edu</h5></p></div>\n",
       "  </div>\n",
       "</div>\n",
       "\n",
       "<div class=\"responsive\">\n",
       "  <div class=\"gallery\">\n",
       "    <a target=\"_blank\" href=\"https://www.linkedin.com/in/aasc/\">\n",
       "      <img src=\"A.jpg\" width=\"600\" height=\"400\">\n",
       "    </a>\n",
       "    <div class=\"desc\"><h2 style=\"color:black;text-align:center;\"</h2>Abdoul Aziz S. Coulibaly <p><h5>Email:</p>aascoulibaly20@berkeley.edu</h5></p></div>\n",
       "  </div>\n",
       "</div>\n",
       "\n",
       "<div class=\"responsive\">\n",
       "  <div class=\"gallery\">\n",
       "    <a target=\"_blank\" href=\"https://www.linkedin.com/in/min-henderson-132a0587/\">\n",
       "      <img src=\"M.png\" width=\"600\" height=\"400\">\n",
       "    </a>\n",
       "    <div class=\"desc\"> <h2 style=\"color:black;text-align:center;\"</h2> Min <center>Henderson</center><p><h5>Email:</p>mhenderson@baypath.edu</h5></p></div>\n",
       "  </div>\n",
       "</div>\n",
       "\n",
       "<div class=\"responsive\">\n",
       "  <div class=\"gallery\">\n",
       "    <a target=\"_blank\" href=\"https://www.linkedin.com/in/prashamsa-rimal-18a226147/\">\n",
       "      <img src=\"P.png\" width=\"600\" height=\"400\">\n",
       "    </a>\n",
       "    <div class=\"desc\"><h2 style=\"color:black;text-align:center;\"</h2> Prashamsa <center>Rimal</center><p><p><h5>Email:</p>prashamsa.rimal97@gmail.com</h5></p></div>\n",
       "  </div>\n",
       "</div>\n",
       "\n",
       "<div class=\"clearfix\"></div>\n",
       "\n",
       "</body>\n",
       "</html>\n"
      ],
      "text/plain": [
       "<IPython.core.display.HTML object>"
      ]
     },
     "metadata": {},
     "output_type": "display_data"
    }
   ],
   "source": [
    "%%html\n",
    "<!DOCTYPE html>\n",
    "<html>\n",
    "<head>\n",
    "<style>\n",
    "div.gallery {\n",
    "  border: 1px solid #ccc;\n",
    "}\n",
    "\n",
    "div.gallery:hover {\n",
    "  border: 1px solid #777;\n",
    "}\n",
    "\n",
    "div.gallery img {\n",
    "  width: 100%;\n",
    "  height: 300px;\n",
    "}\n",
    "\n",
    "div.desc {\n",
    "  padding: 15px;\n",
    "  text-align: center;\n",
    "}\n",
    "\n",
    "* {\n",
    "  box-sizing: border-box;\n",
    "}\n",
    "div.a {\n",
    "  text-align: center;\n",
    "}\n",
    "\n",
    ".responsive {\n",
    "  padding: 0 6px;\n",
    "  float: left;\n",
    "  width: 24.99999%;\n",
    "}\n",
    "\n",
    "@media only screen and (max-width: 700px) {\n",
    "  .responsive {\n",
    "    width: 49.99999%;\n",
    "    margin: 6px 0;\n",
    "  }\n",
    "}\n",
    "\n",
    "@media only screen and (max-width: 500px) {\n",
    "  .responsive {\n",
    "    width: 100%;\n",
    "  }\n",
    "}\n",
    "\n",
    ".clearfix:after {\n",
    "  content: \"\";\n",
    "  display: table;\n",
    "  clear: both;\n",
    "}\n",
    "</style>\n",
    "</head>\n",
    "<body>\n",
    "\n",
    "<p><h1 style=font-size:30px>TEAM MEMBERS</h1><p>\n",
    "\n",
    "<p><em>Click on Picture to be rdirected to the team members LinkedIn profile member</em></p>\n",
    "<p></p>\n",
    "<div class=\"responsive\">\n",
    "  <div class=\"gallery\">\n",
    "    <a target=\"_blank\" href=\"https://www.linkedin.com/in/wayne-chim-060897150/\">\n",
    "      <img src=\"W.png\" width=\"600\" height=\"400\">\n",
    "    </a>\n",
    "    <div class=\"desc\"><h2 style=\"color:black;text-align:center;\"</h2>Wayne <center> Chim </center> <p><h5>Email:</p>wayne.chim@macaulay.cuny.edu</h5></p></div>\n",
    "  </div>\n",
    "</div>\n",
    "\n",
    "<div class=\"responsive\">\n",
    "  <div class=\"gallery\">\n",
    "    <a target=\"_blank\" href=\"https://www.linkedin.com/in/aasc/\">\n",
    "      <img src=\"A.jpg\" width=\"600\" height=\"400\">\n",
    "    </a>\n",
    "    <div class=\"desc\"><h2 style=\"color:black;text-align:center;\"</h2>Abdoul Aziz S. Coulibaly <p><h5>Email:</p>aascoulibaly20@berkeley.edu</h5></p></div>\n",
    "  </div>\n",
    "</div>\n",
    "\n",
    "<div class=\"responsive\">\n",
    "  <div class=\"gallery\">\n",
    "    <a target=\"_blank\" href=\"https://www.linkedin.com/in/min-henderson-132a0587/\">\n",
    "      <img src=\"M.png\" width=\"600\" height=\"400\">\n",
    "    </a>\n",
    "    <div class=\"desc\"> <h2 style=\"color:black;text-align:center;\"</h2> Min <center>Henderson</center><p><h5>Email:</p>mhenderson@baypath.edu</h5></p></div>\n",
    "  </div>\n",
    "</div>\n",
    "\n",
    "<div class=\"responsive\">\n",
    "  <div class=\"gallery\">\n",
    "    <a target=\"_blank\" href=\"https://www.linkedin.com/in/prashamsa-rimal-18a226147/\">\n",
    "      <img src=\"P.png\" width=\"600\" height=\"400\">\n",
    "    </a>\n",
    "    <div class=\"desc\"><h2 style=\"color:black;text-align:center;\"</h2> Prashamsa <center>Rimal</center><p><p><h5>Email:</p>prashamsa.rimal97@gmail.com</h5></p></div>\n",
    "  </div>\n",
    "</div>\n",
    "\n",
    "<div class=\"clearfix\"></div>\n",
    "\n",
    "</body>\n",
    "</html>"
   ]
  },
  {
   "cell_type": "code",
   "execution_count": 42,
   "metadata": {},
   "outputs": [
    {
     "data": {
      "text/html": [
       "\n",
       "<p><h2>More About Us </h2><p>\n",
       "\n",
       "<p> <img style=\"padding: 0 15px; float: right\" src=\"intensive-map-2019.png\" width = '400' height = '116'/></p>\n",
       "<p style=\"margin-top: 20px;\"> </p>\n",
       "\n",
       "<p><em>We were selected from over 600 applicants as 4 of a 21-person cohort to take part in a 10 weeks, \n",
       "project-based Machine Learning pilot program fully funded by Google at Agnes Scott College, Decatur, GA for 9 credits.\n",
       "<p>Our programm is officially called Advanced Applied Machine Learning Intensive, also known as AMLI.</p>\n",
       "</em></p>\n",
       "\n",
       "<p><a href=\"https://edu.google.com/computer-science/applied-computing-series/intensive.html\">Learn More About AMLI</a></p>\n",
       "<p><a href=\"https://www.agnesscott.edu/news/archive/2018/10/agnes-scott-partners-with-google.html\">Learn More About AMLI at Agnes Scott College</a></p>\n",
       "\n",
       "\n",
       "<p> <img style=\"padding: 0 15px; float: left\" src=\"google.png\" width = '250' height = '116'/></p>\n",
       "<p style=\"margin-top: 20px;\"> </p>\n",
       "\n",
       "<p> <img style=\"padding: 0 15px; float: left\" src=\"ASCLOGO.jpg\" width = '200' height = '116'/></p>\n",
       "<p style=\"margin-top: 10px;\"> </p>\n"
      ],
      "text/plain": [
       "<IPython.core.display.HTML object>"
      ]
     },
     "metadata": {},
     "output_type": "display_data"
    }
   ],
   "source": [
    "%%html\n",
    "\n",
    "<p><h2>More About Us </h2><p>\n",
    "\n",
    "<p> <img style=\"padding: 0 15px; float: right\" src=\"intensive-map-2019.png\" width = '400' height = '116'/></p>\n",
    "<p style=\"margin-top: 20px;\"> </p>\n",
    "\n",
    "<p><em>We were selected from over 600 applicants as 4 of a 21-person cohort to take part in a 10 weeks, \n",
    "project-based Machine Learning pilot program fully funded by Google at Agnes Scott College, Decatur, GA for 9 credits.\n",
    "<p>Our programm is officially called Advanced Applied Machine Learning Intensive, also known as AMLI.</p>\n",
    "</em></p>\n",
    "\n",
    "<p><a href=\"https://edu.google.com/computer-science/applied-computing-series/intensive.html\">Learn More About AMLI</a></p>\n",
    "<p><a href=\"https://www.agnesscott.edu/news/archive/2018/10/agnes-scott-partners-with-google.html\">Learn More About AMLI at Agnes Scott College</a></p>\n",
    "\n",
    "\n",
    "<p> <img style=\"padding: 0 15px; float: left\" src=\"google.png\" width = '250' height = '116'/></p>\n",
    "<p style=\"margin-top: 20px;\"> </p>\n",
    "\n",
    "<p> <img style=\"padding: 0 15px; float: left\" src=\"ASCLOGO.jpg\" width = '200' height = '116'/></p>\n",
    "<p style=\"margin-top: 10px;\"> </p>\n"
   ]
  },
  {
   "cell_type": "code",
   "execution_count": 43,
   "metadata": {},
   "outputs": [
    {
     "data": {
      "text/html": [
       "<footer id=\"attribution\" style=\"float:right; color:#999; background:#fff;\">\n",
       "This Jupyter Notebook Created by Abdoul Aziz Sandotin Coulibaly as part of the ProjectWAMP with team members : Wayne Chim,\n",
       "Min Henderson, and Prashamsa Rimal.\n",
       "</footer>\n"
      ],
      "text/plain": [
       "<IPython.core.display.HTML object>"
      ]
     },
     "metadata": {},
     "output_type": "display_data"
    }
   ],
   "source": [
    "%%html\n",
    "<footer id=\"attribution\" style=\"float:right; color:#999; background:#fff;\">\n",
    "This Jupyter Notebook Created by Abdoul Aziz Sandotin Coulibaly as part of the ProjectWAMP with team members : Wayne Chim,\n",
    "Min Henderson, and Prashamsa Rimal.\n",
    "</footer>"
   ]
  },
  {
   "cell_type": "code",
   "execution_count": 44,
   "metadata": {},
   "outputs": [
    {
     "data": {
      "text/html": [
       "<script>\n",
       "  $(document).ready(function(){\n",
       "    $('div.prompt').hide();\n",
       "    $('div.back-to-top').hide();\n",
       "    $('nav#menubar').hide();\n",
       "    $('.breadcrumb').hide();\n",
       "    $('.hidden-print').hide();\n",
       "  });\n",
       "</script>\n",
       "\n",
       "<footer id=\"attribution\" style=\"float:right; color:#999; background:#fff;\">\n",
       "Created with Jupyter, delivered by Fastly, rendered by Rackspace.\n",
       "</footer>\n"
      ],
      "text/plain": [
       "<IPython.core.display.HTML object>"
      ]
     },
     "metadata": {},
     "output_type": "display_data"
    }
   ],
   "source": [
    "%%html\n",
    "<script>\n",
    "  $(document).ready(function(){\n",
    "    $('div.prompt').hide();\n",
    "    $('div.back-to-top').hide();\n",
    "    $('nav#menubar').hide();\n",
    "    $('.breadcrumb').hide();\n",
    "    $('.hidden-print').hide();\n",
    "  });\n",
    "</script>\n",
    "\n",
    "<footer id=\"attribution\" style=\"float:right; color:#999; background:#fff;\">\n",
    "Created with Jupyter, delivered by Fastly, rendered by Rackspace.\n",
    "</footer>"
   ]
  },
  {
   "cell_type": "code",
   "execution_count": null,
   "metadata": {},
   "outputs": [],
   "source": []
  }
 ],
 "metadata": {
  "accelerator": "GPU",
  "colab": {
   "collapsed_sections": [],
   "name": "Project_Trial_3.ipynb",
   "provenance": [
    {
     "file_id": "1urydCXzpZxRdUrVHhy-pAoPHX7Ei9Rme",
     "timestamp": 1562942293310
    }
   ],
   "version": "0.3.2"
  },
  "kernelspec": {
   "display_name": "Python 3",
   "language": "python",
   "name": "python3"
  },
  "language_info": {
   "codemirror_mode": {
    "name": "ipython",
    "version": 3
   },
   "file_extension": ".py",
   "mimetype": "text/x-python",
   "name": "python",
   "nbconvert_exporter": "python",
   "pygments_lexer": "ipython3",
   "version": "3.7.3"
  }
 },
 "nbformat": 4,
 "nbformat_minor": 1
}
